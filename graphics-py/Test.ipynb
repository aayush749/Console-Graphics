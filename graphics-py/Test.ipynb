{
 "cells": [
  {
   "cell_type": "code",
   "execution_count": 1,
   "metadata": {},
   "outputs": [],
   "source": [
    "from graphics import Graphics"
   ]
  },
  {
   "cell_type": "code",
   "execution_count": 7,
   "metadata": {},
   "outputs": [],
   "source": [
    "Graphics.init_graph(20, 10)"
   ]
  },
  {
   "cell_type": "code",
   "execution_count": 8,
   "metadata": {},
   "outputs": [],
   "source": [
    "Graphics.putpixel(10, 10)\n",
    "Graphics.putpixel(10, 20)\n",
    "Graphics.putpixel(10, 30)"
   ]
  },
  {
   "cell_type": "code",
   "execution_count": 9,
   "metadata": {},
   "outputs": [
    {
     "name": "stdout",
     "output_type": "stream",
     "text": [
      "..........\u001b[1;31m^\u001b[1;39m.........\n",
      "..........\u001b[1;31m|\u001b[1;39m.........\n",
      "..........\u001b[1;31m|\u001b[1;39m.........\n",
      "..........\u001b[1;31m|\u001b[1;39m.........\n",
      "..........\u001b[1;31m|\u001b[1;39m.........\n",
      "\u001b[1;31m<\u001b[1;39m\u001b[1;31m-\u001b[1;39m\u001b[1;31m-\u001b[1;39m\u001b[1;31m-\u001b[1;39m\u001b[1;31m-\u001b[1;39m\u001b[1;31m-\u001b[1;39m\u001b[1;31m-\u001b[1;39m\u001b[1;31m-\u001b[1;39m\u001b[1;31m-\u001b[1;39m\u001b[1;31m-\u001b[1;39m\u001b[1;31m+\u001b[1;39m\u001b[1;31m-\u001b[1;39m\u001b[1;31m-\u001b[1;39m\u001b[1;31m-\u001b[1;39m\u001b[1;31m-\u001b[1;39m\u001b[1;31m-\u001b[1;39m\u001b[1;31m-\u001b[1;39m\u001b[1;31m-\u001b[1;39m\u001b[1;31m-\u001b[1;39m\u001b[1;31m>\u001b[1;39m\n",
      "..........\u001b[1;31m|\u001b[1;39m.........\n",
      "..........\u001b[1;31m|\u001b[1;39m.........\n",
      "..........\u001b[1;31m|\u001b[1;39m.........\n",
      "..........\u001b[1;31mV\u001b[1;39m.........\n"
     ]
    }
   ],
   "source": [
    "Graphics.display(show_axis=True, axis_color=\"Red\")"
   ]
  }
 ],
 "metadata": {
  "kernelspec": {
   "display_name": "Python 3.9.7 64-bit",
   "language": "python",
   "name": "python3"
  },
  "language_info": {
   "codemirror_mode": {
    "name": "ipython",
    "version": 3
   },
   "file_extension": ".py",
   "mimetype": "text/x-python",
   "name": "python",
   "nbconvert_exporter": "python",
   "pygments_lexer": "ipython3",
   "version": "3.9.7"
  },
  "orig_nbformat": 4,
  "vscode": {
   "interpreter": {
    "hash": "c347c8f9a7ef94e4c9e03b4513be7835ed18f45b99a2a817fb579f408b867b16"
   }
  }
 },
 "nbformat": 4,
 "nbformat_minor": 2
}
